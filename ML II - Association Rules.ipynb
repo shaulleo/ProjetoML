{
 "cells": [
  {
   "cell_type": "code",
   "execution_count": 15,
   "metadata": {},
   "outputs": [
    {
     "name": "stdout",
     "output_type": "stream",
     "text": [
      "The autoreload extension is already loaded. To reload it, use:\n",
      "  %reload_ext autoreload\n"
     ]
    }
   ],
   "source": [
    "#Basic Packages\n",
    "import numpy as np\n",
    "import pandas as pd\n",
    "import seaborn as sns\n",
    "import matplotlib.pyplot as plt\n",
    "from datetime import date \n",
    "from sklearn.preprocessing import StandardScaler, MinMaxScaler\n",
    "from sklearn.cluster import KMeans, AgglomerativeClustering\n",
    "from sklearn.metrics import confusion_matrix\n",
    "import squarify\n",
    "\n",
    "#To find addresses\n",
    "import reverse_geocoder as rg\n",
    "from geopy.geocoders import Nominatim\n",
    "\n",
    "#Plot Maps\n",
    "import folium\n",
    "from folium.plugins import HeatMap, MarkerCluster \n",
    "\n",
    "#Functions\n",
    "import Functions\n",
    "\n",
    "%load_ext autoreload\n",
    "%autoreload 2\n",
    "\n",
    "#Ignore warnings\n",
    "import warnings\n",
    "warnings.filterwarnings(\"ignore\")\n",
    "\n",
    "\n",
    "#Para fazer as regras de associação\n",
    "\n",
    "import mlxtend.fr"
   ]
  },
  {
   "cell_type": "code",
   "execution_count": 10,
   "metadata": {},
   "outputs": [],
   "source": [
    "individuals = pd.read_csv('customers_clustered.csv')\n",
    "basket = pd.read_csv('Customer Basket Dataset.csv')"
   ]
  },
  {
   "cell_type": "code",
   "execution_count": 11,
   "metadata": {},
   "outputs": [],
   "source": [
    "individuals.set_index('customer_id', inplace=True)"
   ]
  },
  {
   "cell_type": "code",
   "execution_count": 12,
   "metadata": {},
   "outputs": [
    {
     "data": {
      "text/html": [
       "<div>\n",
       "<style scoped>\n",
       "    .dataframe tbody tr th:only-of-type {\n",
       "        vertical-align: middle;\n",
       "    }\n",
       "\n",
       "    .dataframe tbody tr th {\n",
       "        vertical-align: top;\n",
       "    }\n",
       "\n",
       "    .dataframe thead th {\n",
       "        text-align: right;\n",
       "    }\n",
       "</style>\n",
       "<table border=\"1\" class=\"dataframe\">\n",
       "  <thead>\n",
       "    <tr style=\"text-align: right;\">\n",
       "      <th></th>\n",
       "      <th>customer_id</th>\n",
       "      <th>invoice_id</th>\n",
       "      <th>list_of_goods</th>\n",
       "    </tr>\n",
       "  </thead>\n",
       "  <tbody>\n",
       "    <tr>\n",
       "      <th>0</th>\n",
       "      <td>7980</td>\n",
       "      <td>6494405</td>\n",
       "      <td>['fresh bread', 'cake', 'grated cheese', 'fren...</td>\n",
       "    </tr>\n",
       "    <tr>\n",
       "      <th>1</th>\n",
       "      <td>9995</td>\n",
       "      <td>6855482</td>\n",
       "      <td>['bramble', 'beer', 'white wine', 'almonds', '...</td>\n",
       "    </tr>\n",
       "    <tr>\n",
       "      <th>2</th>\n",
       "      <td>10060</td>\n",
       "      <td>3614116</td>\n",
       "      <td>['fromage blanc', 'olive oil', 'tomato sauce',...</td>\n",
       "    </tr>\n",
       "    <tr>\n",
       "      <th>3</th>\n",
       "      <td>1461</td>\n",
       "      <td>6464656</td>\n",
       "      <td>['pokemon shield', 'white wine', 'google table...</td>\n",
       "    </tr>\n",
       "    <tr>\n",
       "      <th>4</th>\n",
       "      <td>7830</td>\n",
       "      <td>10330249</td>\n",
       "      <td>['olive oil', 'deodorant', 'whole weat flour',...</td>\n",
       "    </tr>\n",
       "    <tr>\n",
       "      <th>...</th>\n",
       "      <td>...</td>\n",
       "      <td>...</td>\n",
       "      <td>...</td>\n",
       "    </tr>\n",
       "    <tr>\n",
       "      <th>79995</th>\n",
       "      <td>360</td>\n",
       "      <td>11470275</td>\n",
       "      <td>['tomatoes', 'ham', 'zucchini', 'frozen vegeta...</td>\n",
       "    </tr>\n",
       "    <tr>\n",
       "      <th>79996</th>\n",
       "      <td>3116</td>\n",
       "      <td>7483644</td>\n",
       "      <td>['pet food', 'soup', 'beer', 'fromage blanc', ...</td>\n",
       "    </tr>\n",
       "    <tr>\n",
       "      <th>79997</th>\n",
       "      <td>1546</td>\n",
       "      <td>9168204</td>\n",
       "      <td>['cake', 'french fries', 'cooking oil', 'muffi...</td>\n",
       "    </tr>\n",
       "    <tr>\n",
       "      <th>79998</th>\n",
       "      <td>7242</td>\n",
       "      <td>5054623</td>\n",
       "      <td>['fromage blanc', 'napkins', 'sandwich', 'hone...</td>\n",
       "    </tr>\n",
       "    <tr>\n",
       "      <th>79999</th>\n",
       "      <td>625</td>\n",
       "      <td>6949651</td>\n",
       "      <td>['pokemon shield', 'toilet paper', 'google tab...</td>\n",
       "    </tr>\n",
       "  </tbody>\n",
       "</table>\n",
       "<p>80000 rows × 3 columns</p>\n",
       "</div>"
      ],
      "text/plain": [
       "       customer_id  invoice_id  \\\n",
       "0             7980     6494405   \n",
       "1             9995     6855482   \n",
       "2            10060     3614116   \n",
       "3             1461     6464656   \n",
       "4             7830    10330249   \n",
       "...            ...         ...   \n",
       "79995          360    11470275   \n",
       "79996         3116     7483644   \n",
       "79997         1546     9168204   \n",
       "79998         7242     5054623   \n",
       "79999          625     6949651   \n",
       "\n",
       "                                           list_of_goods  \n",
       "0      ['fresh bread', 'cake', 'grated cheese', 'fren...  \n",
       "1      ['bramble', 'beer', 'white wine', 'almonds', '...  \n",
       "2      ['fromage blanc', 'olive oil', 'tomato sauce',...  \n",
       "3      ['pokemon shield', 'white wine', 'google table...  \n",
       "4      ['olive oil', 'deodorant', 'whole weat flour',...  \n",
       "...                                                  ...  \n",
       "79995  ['tomatoes', 'ham', 'zucchini', 'frozen vegeta...  \n",
       "79996  ['pet food', 'soup', 'beer', 'fromage blanc', ...  \n",
       "79997  ['cake', 'french fries', 'cooking oil', 'muffi...  \n",
       "79998  ['fromage blanc', 'napkins', 'sandwich', 'hone...  \n",
       "79999  ['pokemon shield', 'toilet paper', 'google tab...  \n",
       "\n",
       "[80000 rows x 3 columns]"
      ]
     },
     "execution_count": 12,
     "metadata": {},
     "output_type": "execute_result"
    }
   ],
   "source": [
    "basket.set_index('invoice_id', )"
   ]
  },
  {
   "cell_type": "code",
   "execution_count": 17,
   "metadata": {},
   "outputs": [
    {
     "data": {
      "text/plain": [
       "79749"
      ]
     },
     "execution_count": 17,
     "metadata": {},
     "output_type": "execute_result"
    }
   ],
   "source": [
    "basket['invoice_id'].nunique()"
   ]
  },
  {
   "cell_type": "code",
   "execution_count": 19,
   "metadata": {},
   "outputs": [],
   "source": [
    "aux = pd.DataFrame(basket.groupby('invoice_id').count())"
   ]
  },
  {
   "cell_type": "code",
   "execution_count": 20,
   "metadata": {},
   "outputs": [
    {
     "data": {
      "text/html": [
       "<div>\n",
       "<style scoped>\n",
       "    .dataframe tbody tr th:only-of-type {\n",
       "        vertical-align: middle;\n",
       "    }\n",
       "\n",
       "    .dataframe tbody tr th {\n",
       "        vertical-align: top;\n",
       "    }\n",
       "\n",
       "    .dataframe thead th {\n",
       "        text-align: right;\n",
       "    }\n",
       "</style>\n",
       "<table border=\"1\" class=\"dataframe\">\n",
       "  <thead>\n",
       "    <tr style=\"text-align: right;\">\n",
       "      <th></th>\n",
       "      <th>customer_id</th>\n",
       "      <th>list_of_goods</th>\n",
       "    </tr>\n",
       "    <tr>\n",
       "      <th>invoice_id</th>\n",
       "      <th></th>\n",
       "      <th></th>\n",
       "    </tr>\n",
       "  </thead>\n",
       "  <tbody>\n",
       "    <tr>\n",
       "      <th>52512</th>\n",
       "      <td>2</td>\n",
       "      <td>2</td>\n",
       "    </tr>\n",
       "    <tr>\n",
       "      <th>60470</th>\n",
       "      <td>2</td>\n",
       "      <td>2</td>\n",
       "    </tr>\n",
       "    <tr>\n",
       "      <th>60724</th>\n",
       "      <td>2</td>\n",
       "      <td>2</td>\n",
       "    </tr>\n",
       "    <tr>\n",
       "      <th>91497</th>\n",
       "      <td>2</td>\n",
       "      <td>2</td>\n",
       "    </tr>\n",
       "    <tr>\n",
       "      <th>135810</th>\n",
       "      <td>2</td>\n",
       "      <td>2</td>\n",
       "    </tr>\n",
       "    <tr>\n",
       "      <th>...</th>\n",
       "      <td>...</td>\n",
       "      <td>...</td>\n",
       "    </tr>\n",
       "    <tr>\n",
       "      <th>11700808</th>\n",
       "      <td>2</td>\n",
       "      <td>2</td>\n",
       "    </tr>\n",
       "    <tr>\n",
       "      <th>11708822</th>\n",
       "      <td>2</td>\n",
       "      <td>2</td>\n",
       "    </tr>\n",
       "    <tr>\n",
       "      <th>11724307</th>\n",
       "      <td>2</td>\n",
       "      <td>2</td>\n",
       "    </tr>\n",
       "    <tr>\n",
       "      <th>11739893</th>\n",
       "      <td>2</td>\n",
       "      <td>2</td>\n",
       "    </tr>\n",
       "    <tr>\n",
       "      <th>11948599</th>\n",
       "      <td>2</td>\n",
       "      <td>2</td>\n",
       "    </tr>\n",
       "  </tbody>\n",
       "</table>\n",
       "<p>251 rows × 2 columns</p>\n",
       "</div>"
      ],
      "text/plain": [
       "            customer_id  list_of_goods\n",
       "invoice_id                            \n",
       "52512                 2              2\n",
       "60470                 2              2\n",
       "60724                 2              2\n",
       "91497                 2              2\n",
       "135810                2              2\n",
       "...                 ...            ...\n",
       "11700808              2              2\n",
       "11708822              2              2\n",
       "11724307              2              2\n",
       "11739893              2              2\n",
       "11948599              2              2\n",
       "\n",
       "[251 rows x 2 columns]"
      ]
     },
     "execution_count": 20,
     "metadata": {},
     "output_type": "execute_result"
    }
   ],
   "source": [
    "aux[aux['list_of_goods'] > 1]"
   ]
  },
  {
   "cell_type": "code",
   "execution_count": 22,
   "metadata": {},
   "outputs": [
    {
     "data": {
      "text/plain": [
       "22538    ['tomato juice', 'cake', 'grated cheese', 'cho...\n",
       "22539    ['tomato juice', 'cake', 'grated cheese', 'cho...\n",
       "Name: list_of_goods, dtype: object"
      ]
     },
     "execution_count": 22,
     "metadata": {},
     "output_type": "execute_result"
    }
   ],
   "source": [
    "basket[basket['invoice_id'] == 52512]['list_of_goods']"
   ]
  }
 ],
 "metadata": {
  "kernelspec": {
   "display_name": "Python 3",
   "language": "python",
   "name": "python3"
  },
  "language_info": {
   "codemirror_mode": {
    "name": "ipython",
    "version": 3
   },
   "file_extension": ".py",
   "mimetype": "text/x-python",
   "name": "python",
   "nbconvert_exporter": "python",
   "pygments_lexer": "ipython3",
   "version": "3.10.0"
  },
  "orig_nbformat": 4
 },
 "nbformat": 4,
 "nbformat_minor": 2
}
