{
 "cells": [
  {
   "attachments": {},
   "cell_type": "markdown",
   "metadata": {},
   "source": [
    "# Customer Segmentation\n",
    "\n",
    "### Machine Learning II Project\n",
    "\n",
    "   - Bruno Moreira            | 20211574@novaims.unl.pt\n",
    "   - Carolina Braziel Shaul   | 20211557@novaims.unl.pt\n",
    "   - Madalena Dias Frango     | 20211522@novaims.unl.pt"
   ]
  },
  {
   "attachments": {},
   "cell_type": "markdown",
   "metadata": {},
   "source": [
    "## Table of Contents"
   ]
  },
  {
   "attachments": {},
   "cell_type": "markdown",
   "metadata": {},
   "source": [
    "<br>\n",
    "[2. Preliminary Data Adjustments](#2. bullet)<br>\n",
    "<br>\n",
    "[3. Customer Segmentation - K-Means](#3.-bullet)<br>\n",
    "<br>"
   ]
  },
  {
   "attachments": {},
   "cell_type": "markdown",
   "metadata": {},
   "source": [
    "<br>\n",
    "\n",
    "---\n",
    "<br>"
   ]
  },
  {
   "attachments": {},
   "cell_type": "markdown",
   "metadata": {},
   "source": [
    "<a class=\"anchor\" id=\"1-bullet\">     \n",
    "    \n",
    "\n",
    "### 1. Importing Data & Libraries \n",
    "\n",
    "</a>\n"
   ]
  },
  {
   "cell_type": "code",
   "execution_count": 1,
   "metadata": {},
   "outputs": [],
   "source": [
    "#Basic Packages\n",
    "import numpy as np\n",
    "import pandas as pd\n",
    "import seaborn as sns\n",
    "import matplotlib.pyplot as plt\n",
    "from datetime import date \n",
    "from sklearn.preprocessing import MinMaxScaler\n",
    "from sklearn.cluster import KMeans\n",
    "from sklearn.metrics import confusion_matrix\n",
    "\n",
    "\n",
    "#Plot Maps\n",
    "import folium\n",
    "from folium.plugins import HeatMap, MarkerCluster \n",
    "\n",
    "#Functions\n",
    "import Functions\n",
    "\n",
    "# Umap library\n",
    "import umap\n",
    "\n",
    "%load_ext autoreload\n",
    "%autoreload 2\n",
    "\n",
    "#Ignore warnings\n",
    "import warnings\n",
    "warnings.filterwarnings(\"ignore\")\n",
    "\n",
    "\n",
    "# Matplotlib Options\n",
    "plt.rcParams['figure.figsize'] = [16, 8]\n",
    "font = {'weight' : 'bold',\n",
    "        'size'   : 14}\n",
    "plt.rc('font', **font)"
   ]
  },
  {
   "cell_type": "code",
   "execution_count": 2,
   "metadata": {},
   "outputs": [],
   "source": [
    "individuals = pd.read_csv('clientes_preprocessed.csv')\n",
    "transactions = pd.read_csv('Customer Basket Dataset.csv')\n",
    "prod_mapping = pd.read_excel('Product Mapping Excel File.xlsx')"
   ]
  },
  {
   "cell_type": "code",
   "execution_count": 3,
   "metadata": {},
   "outputs": [],
   "source": [
    "individuals.set_index('customer_id', inplace=True)"
   ]
  },
  {
   "attachments": {},
   "cell_type": "markdown",
   "metadata": {},
   "source": [
    "<br>\n",
    "\n",
    "---\n",
    "<br>"
   ]
  },
  {
   "attachments": {},
   "cell_type": "markdown",
   "metadata": {},
   "source": [
    "<a class=\"anchor\" id=\"2.-bullet\">     \n",
    "    \n",
    "\n",
    "### 2. Preliminary Data Adjustments\n",
    "\n",
    "</a>"
   ]
  },
  {
   "attachments": {},
   "cell_type": "markdown",
   "metadata": {},
   "source": [
    "#### Joining Features"
   ]
  },
  {
   "cell_type": "code",
   "execution_count": 4,
   "metadata": {},
   "outputs": [],
   "source": [
    "individuals['lifetime_spend_animal_protein'] = individuals[['lifetime_spend_fish', 'lifetime_spend_meat']].sum(axis=1)\n",
    "individuals['lifetime_spend_technology'] = individuals[['lifetime_spend_videogames', 'lifetime_spend_electronics']].sum(axis=1)"
   ]
  },
  {
   "cell_type": "code",
   "execution_count": 5,
   "metadata": {},
   "outputs": [
    {
     "data": {
      "text/html": [
       "<div>\n",
       "<style scoped>\n",
       "    .dataframe tbody tr th:only-of-type {\n",
       "        vertical-align: middle;\n",
       "    }\n",
       "\n",
       "    .dataframe tbody tr th {\n",
       "        vertical-align: top;\n",
       "    }\n",
       "\n",
       "    .dataframe thead th {\n",
       "        text-align: right;\n",
       "    }\n",
       "</style>\n",
       "<table border=\"1\" class=\"dataframe\">\n",
       "  <thead>\n",
       "    <tr style=\"text-align: right;\">\n",
       "      <th></th>\n",
       "      <th>Variable 1</th>\n",
       "      <th>Variable 2</th>\n",
       "      <th>Correlation</th>\n",
       "    </tr>\n",
       "  </thead>\n",
       "  <tbody>\n",
       "    <tr>\n",
       "      <th>10</th>\n",
       "      <td>lifetime_total_distinct_products</td>\n",
       "      <td>lifetime_spend_animal_protein</td>\n",
       "      <td>0.932928</td>\n",
       "    </tr>\n",
       "    <tr>\n",
       "      <th>3</th>\n",
       "      <td>lifetime_spend_groceries</td>\n",
       "      <td>lifetime_total_distinct_products</td>\n",
       "      <td>0.926119</td>\n",
       "    </tr>\n",
       "    <tr>\n",
       "      <th>2</th>\n",
       "      <td>distinct_stores_visited</td>\n",
       "      <td>percentage_of_products_bought_promotion</td>\n",
       "      <td>0.923021</td>\n",
       "    </tr>\n",
       "    <tr>\n",
       "      <th>6</th>\n",
       "      <td>lifetime_spend_groceries</td>\n",
       "      <td>lifetime_spend_animal_protein</td>\n",
       "      <td>0.915666</td>\n",
       "    </tr>\n",
       "    <tr>\n",
       "      <th>5</th>\n",
       "      <td>lifetime_spend_groceries</td>\n",
       "      <td>total_lifetime_spend</td>\n",
       "      <td>0.913175</td>\n",
       "    </tr>\n",
       "    <tr>\n",
       "      <th>0</th>\n",
       "      <td>kids_home</td>\n",
       "      <td>minors_in_household</td>\n",
       "      <td>0.895671</td>\n",
       "    </tr>\n",
       "    <tr>\n",
       "      <th>11</th>\n",
       "      <td>total_lifetime_spend</td>\n",
       "      <td>lifetime_spend_animal_protein</td>\n",
       "      <td>0.872337</td>\n",
       "    </tr>\n",
       "    <tr>\n",
       "      <th>9</th>\n",
       "      <td>lifetime_total_distinct_products</td>\n",
       "      <td>total_lifetime_spend</td>\n",
       "      <td>0.855891</td>\n",
       "    </tr>\n",
       "    <tr>\n",
       "      <th>1</th>\n",
       "      <td>teens_home</td>\n",
       "      <td>minors_in_household</td>\n",
       "      <td>0.799848</td>\n",
       "    </tr>\n",
       "    <tr>\n",
       "      <th>7</th>\n",
       "      <td>lifetime_spend_nonalcohol_drinks</td>\n",
       "      <td>lifetime_spend_technology</td>\n",
       "      <td>0.787628</td>\n",
       "    </tr>\n",
       "    <tr>\n",
       "      <th>8</th>\n",
       "      <td>lifetime_total_distinct_products</td>\n",
       "      <td>year_first_transaction</td>\n",
       "      <td>-0.688549</td>\n",
       "    </tr>\n",
       "    <tr>\n",
       "      <th>4</th>\n",
       "      <td>lifetime_spend_groceries</td>\n",
       "      <td>year_first_transaction</td>\n",
       "      <td>-0.706913</td>\n",
       "    </tr>\n",
       "  </tbody>\n",
       "</table>\n",
       "</div>"
      ],
      "text/plain": [
       "                          Variable 1                               Variable 2  \\\n",
       "10  lifetime_total_distinct_products            lifetime_spend_animal_protein   \n",
       "3           lifetime_spend_groceries         lifetime_total_distinct_products   \n",
       "2            distinct_stores_visited  percentage_of_products_bought_promotion   \n",
       "6           lifetime_spend_groceries            lifetime_spend_animal_protein   \n",
       "5           lifetime_spend_groceries                     total_lifetime_spend   \n",
       "0                          kids_home                      minors_in_household   \n",
       "11              total_lifetime_spend            lifetime_spend_animal_protein   \n",
       "9   lifetime_total_distinct_products                     total_lifetime_spend   \n",
       "1                         teens_home                      minors_in_household   \n",
       "7   lifetime_spend_nonalcohol_drinks                lifetime_spend_technology   \n",
       "8   lifetime_total_distinct_products                   year_first_transaction   \n",
       "4           lifetime_spend_groceries                   year_first_transaction   \n",
       "\n",
       "    Correlation  \n",
       "10     0.932928  \n",
       "3      0.926119  \n",
       "2      0.923021  \n",
       "6      0.915666  \n",
       "5      0.913175  \n",
       "0      0.895671  \n",
       "11     0.872337  \n",
       "9      0.855891  \n",
       "1      0.799848  \n",
       "7      0.787628  \n",
       "8     -0.688549  \n",
       "4     -0.706913  "
      ]
     },
     "execution_count": 5,
     "metadata": {},
     "output_type": "execute_result"
    }
   ],
   "source": [
    "corr_matrix = individuals.drop(['lifetime_spend_fish', 'lifetime_spend_meat', 'lifetime_spend_videogames', 'lifetime_spend_electronics'], axis = 1).corr()\n",
    "Functions.get_high_correlations(corr_matrix, 0.66)"
   ]
  },
  {
   "cell_type": "code",
   "execution_count": 10,
   "metadata": {},
   "outputs": [],
   "source": [
    "continuous = ['lifetime_spend_groceries', 'lifetime_spend_electronics', 'lifetime_spend_vegetables',\n",
    "       'lifetime_spend_nonalcohol_drinks', 'lifetime_spend_alcohol_drinks',\n",
    "       'lifetime_spend_meat', 'lifetime_spend_fish', 'lifetime_spend_hygiene',\n",
    "       'lifetime_spend_videogames', 'lifetime_total_distinct_products',\n",
    "       'percentage_of_products_bought_promotion', 'year_first_transaction', 'total_lifetime_spend', 'age', 'birthday' ]\n",
    "\n",
    "#Variaveis tais como 'lifetime_total_distinct_products', 'year_first_transaction', \n",
    "#  'age', 'birthday', estão a ser tratadas como continuas neste contexto dada a amplitude delas.\n",
    "\n",
    "discrete = ['kids_home', 'teens_home', 'typical_hour', 'birthmonth',\n",
    "       'number_complaints', 'distinct_stores_visited', 'minors_in_household', 'education']\n",
    "\n",
    "binary = ['customer_gender', 'loyalty_card']"
   ]
  },
  {
   "attachments": {},
   "cell_type": "markdown",
   "metadata": {},
   "source": [
    "#### Data Scalling"
   ]
  },
  {
   "cell_type": "code",
   "execution_count": 11,
   "metadata": {},
   "outputs": [],
   "source": [
    "scaler = MinMaxScaler()\n",
    "individuals_num = individuals.drop(['customer_name', 'region'], axis=1)\n",
    "scaled_data = scaler.fit_transform(individuals_num)\n",
    "scaled_data = pd.DataFrame(scaled_data, index= individuals_num.index, columns=individuals_num.columns)"
   ]
  },
  {
   "attachments": {},
   "cell_type": "markdown",
   "metadata": {},
   "source": [
    "<br>\n",
    "\n",
    "---\n",
    "<br>"
   ]
  },
  {
   "attachments": {},
   "cell_type": "markdown",
   "metadata": {},
   "source": [
    "<a class=\"anchor\" id=\"3.-bullet\">     \n",
    "    \n",
    "\n",
    "### 3. Customer Segmentation - K-Means\n",
    "\n",
    "</a>"
   ]
  },
  {
   "attachments": {},
   "cell_type": "markdown",
   "metadata": {},
   "source": [
    "> Selecting the columns to use to plot by"
   ]
  },
  {
   "cell_type": "code",
   "execution_count": 6,
   "metadata": {},
   "outputs": [],
   "source": [
    "columns = ['lifetime_spend_groceries', 'lifetime_spend_electronics', 'lifetime_spend_vegetables',\n",
    " 'lifetime_spend_nonalcohol_drinks', 'lifetime_spend_alcohol_drinks', 'lifetime_spend_hygiene',\n",
    " 'lifetime_spend_videogames', 'lifetime_total_distinct_products', 'percentage_of_products_bought_promotion',\n",
    " 'year_first_transaction', 'total_lifetime_spend', 'age', 'kids_home', 'teens_home',\n",
    " 'typical_hour', 'number_complaints','distinct_stores_visited', 'minors_in_household']"
   ]
  },
  {
   "cell_type": "code",
   "execution_count": 7,
   "metadata": {},
   "outputs": [],
   "source": [
    "colors = ['#F29687','#5D64AC','#EFD56C','#B5699C','#569F6E']"
   ]
  },
  {
   "attachments": {},
   "cell_type": "markdown",
   "metadata": {},
   "source": [
    "<a class=\"anchor\" id=\"3.1-bullet\">     \n",
    "    \n",
    "\n",
    "#### 3.1. Finding Optimal Number of Clusters and Fitting the Model\n",
    "</a>"
   ]
  },
  {
   "attachments": {},
   "cell_type": "markdown",
   "metadata": {},
   "source": [
    "This clustering solution is characterized by using the following variables for segmentation and forming 6 clusters.\n",
    "\n",
    "> 'kids_home', 'teens_home', 'number_complaints',\n",
    " 'distinct_stores_visited', 'lifetime_spend_groceries', 'typical_hour',\n",
    " 'lifetime_spend_vegetables','lifetime_spend_nonalcohol_drinks','lifetime_spend_alcohol_drinks',\n",
    " 'lifetime_spend_hygiene','lifetime_total_distinct_products','percentage_of_products_bought_promotion',\n",
    " 'year_first_transaction','loyalty_card','total_lifetime_spend','age',\n",
    " 'education','lifetime_spend_animal_protein','lifetime_spend_videogames', 'lifetime_spend_electronics'"
   ]
  },
  {
   "cell_type": "code",
   "execution_count": 8,
   "metadata": {},
   "outputs": [],
   "source": [
    "fit_variables = ['kids_home', 'teens_home', 'number_complaints',\n",
    " 'distinct_stores_visited', 'lifetime_spend_groceries', 'typical_hour',\n",
    " 'lifetime_spend_vegetables','lifetime_spend_nonalcohol_drinks','lifetime_spend_alcohol_drinks',\n",
    " 'lifetime_spend_hygiene','lifetime_total_distinct_products','percentage_of_products_bought_promotion',\n",
    " 'year_first_transaction','loyalty_card','total_lifetime_spend','age',\n",
    " 'education','lifetime_spend_animal_protein','lifetime_spend_videogames', 'lifetime_spend_electronics']"
   ]
  },
  {
   "cell_type": "code",
   "execution_count": 12,
   "metadata": {},
   "outputs": [
    {
     "data": {
      "image/png": "[encoded data removed]",
      "text/plain": [
       "<Figure size 640x480 with 1 Axes>"
      ]
     },
     "metadata": {},
     "output_type": "display_data"
    }
   ],
   "source": [
    "Functions.plot_inertia(scaled_data[fit_variables], 25, 10)"
   ]
  },
  {
   "cell_type": "code",
   "execution_count": null,
   "metadata": {},
   "outputs": [],
   "source": [
    "kmeans_solZ = KMeans(n_clusters=6, random_state=0).fit(scaled_data[fit_variables])\n",
    "individuals['cluster_kmeansZ'] =  kmeans_solZ.predict(scaled_data[fit_variables])"
   ]
  },
  {
   "attachments": {},
   "cell_type": "markdown",
   "metadata": {},
   "source": [
    "<a class=\"anchor\" id=\"3.2.-bullet\">     \n",
    "    \n",
    "\n",
    "#### 3.2. Assessing the Results\n",
    "</a>"
   ]
  }
 ],
 "metadata": {
  "kernelspec": {
   "display_name": "Python 3",
   "language": "python",
   "name": "python3"
  },
  "language_info": {
   "codemirror_mode": {
    "name": "ipython",
    "version": 3
   },
   "file_extension": ".py",
   "mimetype": "text/x-python",
   "name": "python",
   "nbconvert_exporter": "python",
   "pygments_lexer": "ipython3",
   "version": "3.10.0"
  },
  "orig_nbformat": 4
 },
 "nbformat": 4,
 "nbformat_minor": 2
}
